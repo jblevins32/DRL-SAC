{
  "cells": [
    {
      "cell_type": "markdown",
      "metadata": {
        "id": "yZH2K5LjNxDb"
      },
      "source": [
        "# HW2 - Q Actor Critics - DQN, DDPG, SAC\n",
        "\n",
        "This assignment builds to a simple Soft Actor Critic (2018) by progressing from predecessor algorithms: <br> Deep Q Networks (2013) and Deep Deterministic Policy Gradients (2015). They all build on tabular Q learning (\\~1989). Note, many variations of these algorithms exist. Please use the math contained in this notebook for the coding sections."
      ]
    },
    {
      "cell_type": "markdown",
      "metadata": {
        "id": "Cqv2aln3DDCz"
      },
      "source": [
        "# 0. Warm Up Questions [30 pts total; 2 pt each]\n"
      ]
    },
    {
      "cell_type": "markdown",
      "metadata": {
        "id": "AS-8empJz8Iu"
      },
      "source": [
        "ALL ANSWERS IN OTHER SUBMITTED DOCUMENT\n",
        "\n",
        "Answer each question concisely. One sentence, one formula, one line of code, etc. Use of $\\LaTeX$ formatting for math is encouraged.\n",
        "\n",
        "1.    How does the Q function $Q(s_t, a_t)$ relate to sum of discounted rewards $\\sum_{t=0}^T \\gamma^t r_t$?<br>\n",
        "Type answer here ..\n",
        "\n",
        "2.    How does the Q function $Q(s_t, a_t)$ relate to $Q(s_{t+1}, a_{t+1})$?<br>\n",
        "\n",
        "3.    When Q is accurate are these definitions equivalent?<br>\n",
        "\n",
        "4.    Whats the loss for a neural approximation to the Q network?<br>\n",
        "\n",
        "5.    In the discrete case, how do you select actions given an accurate Q network?<br>\n",
        "\n",
        "6.    In DQN, for an environment with 5 continuous states and 3 discrete action choices: Whats the input and output size of the Q network?<br>\n",
        "\n",
        "7.    In DDPG, for an environment with 5 continuous states and 3 continuous action: Whats the input and output size of the Q network?<br>\n",
        "\n",
        "8.    In DQN, what is a target network and why do we need it?<br>\n",
        "\n",
        "9.    In DQN, what is a replay buffer and why do we need it?<br>\n",
        "\n",
        "10.    Explain this inequality $\\mathbb{E}[\\max(C_1, C_2)] \\geq \\max(\\mathbb{E}[C_1], \\mathbb{E}[C_2])$, assuming $C_1$ and $C_2$ are random variables representing the probability of getting heads when flipping two fair coins. (This is the basis for double Q learning in Double DQN and SAC.)<br>\n",
        "\n",
        "11.    Do off policy algorithms use a replay buffer?<br>\n",
        "\n",
        "12.    What does 'with torch.no_grad():' do and why should you use it when calling target networks but not regular networks?<br>\n",
        "\n",
        "13.    Why do you need a policy network in DDPG but not DQN, and what is the DDPG policy loss.<br>\n",
        "\n",
        "14.    Compare and contrast hard and soft target network updates.<br>\n",
        "\n",
        "15. In [InvertedPendulum-v5](https://gymnasium.farama.org/environments/mujoco/inverted_pendulum/) what are the physical meanings of states and actions and are they discrete or continuous?<br>"
      ]
    },
    {
      "cell_type": "markdown",
      "metadata": {
        "id": "hdzpOoeBR9Ql"
      },
      "source": [
        "# Boiler Plate\n",
        "####(read through atleast once)"
      ]
    },
    {
      "cell_type": "markdown",
      "metadata": {
        "id": "RWpQBY3YKGAX"
      },
      "source": [
        "## Imports and Set up\n",
        "Installs gymnasium, imports deep learning libs, sets torch device. **You shouldnt need to change this code.**\n",
        "\n",
        "This notebook should work with CPU or GPU. To change: **click Runtime (top left of notebook) -> Change runtime type -> select a CPU/GPU -> Save**. I'd recommend debugging on the CPU (to save available GPU time) and doing full runs on GPU (to increase training speed). Regardless, these environments should solve within minutes even on the CPU."
      ]
    },
    {
      "cell_type": "code",
      "execution_count": 48,
      "metadata": {
        "id": "aN-Jray4N018"
      },
      "outputs": [
        {
          "name": "stderr",
          "output_type": "stream",
          "text": [
            "54149.64s - pydevd: Sending message related to process being replaced timed-out after 5 seconds\n"
          ]
        },
        {
          "name": "stdout",
          "output_type": "stream",
          "text": [
            "Looking in indexes: https://pypi.org/simple, https://pypi.ngc.nvidia.com\n",
            "Requirement already satisfied: gymnasium[mujoco] in /home/jblevins32/anaconda3/lib/python3.11/site-packages (1.0.0)\n",
            "Requirement already satisfied: numpy>=1.21.0 in /home/jblevins32/anaconda3/lib/python3.11/site-packages (from gymnasium[mujoco]) (1.26.4)\n",
            "Requirement already satisfied: cloudpickle>=1.2.0 in /home/jblevins32/anaconda3/lib/python3.11/site-packages (from gymnasium[mujoco]) (3.0.0)\n",
            "Requirement already satisfied: typing-extensions>=4.3.0 in /home/jblevins32/anaconda3/lib/python3.11/site-packages (from gymnasium[mujoco]) (4.12.2)\n",
            "Requirement already satisfied: farama-notifications>=0.0.1 in /home/jblevins32/anaconda3/lib/python3.11/site-packages (from gymnasium[mujoco]) (0.0.4)\n",
            "Requirement already satisfied: mujoco>=2.1.5 in /home/jblevins32/anaconda3/lib/python3.11/site-packages (from gymnasium[mujoco]) (3.2.7)\n",
            "Requirement already satisfied: imageio>=2.14.1 in /home/jblevins32/anaconda3/lib/python3.11/site-packages (from gymnasium[mujoco]) (2.37.0)\n",
            "Requirement already satisfied: pillow>=8.3.2 in /home/jblevins32/anaconda3/lib/python3.11/site-packages (from imageio>=2.14.1->gymnasium[mujoco]) (11.1.0)\n",
            "Requirement already satisfied: absl-py in /home/jblevins32/anaconda3/lib/python3.11/site-packages (from mujoco>=2.1.5->gymnasium[mujoco]) (2.1.0)\n",
            "Requirement already satisfied: etils[epath] in /home/jblevins32/anaconda3/lib/python3.11/site-packages (from mujoco>=2.1.5->gymnasium[mujoco]) (1.12.0)\n",
            "Requirement already satisfied: glfw in /home/jblevins32/anaconda3/lib/python3.11/site-packages (from mujoco>=2.1.5->gymnasium[mujoco]) (2.8.0)\n",
            "Requirement already satisfied: pyopengl in /home/jblevins32/anaconda3/lib/python3.11/site-packages (from mujoco>=2.1.5->gymnasium[mujoco]) (3.1.9)\n",
            "Requirement already satisfied: fsspec in /home/jblevins32/anaconda3/lib/python3.11/site-packages (from etils[epath]->mujoco>=2.1.5->gymnasium[mujoco]) (2024.12.0)\n",
            "Requirement already satisfied: importlib_resources in /home/jblevins32/anaconda3/lib/python3.11/site-packages (from etils[epath]->mujoco>=2.1.5->gymnasium[mujoco]) (6.5.2)\n",
            "Requirement already satisfied: zipp in /home/jblevins32/anaconda3/lib/python3.11/site-packages (from etils[epath]->mujoco>=2.1.5->gymnasium[mujoco]) (3.21.0)\n"
          ]
        },
        {
          "name": "stderr",
          "output_type": "stream",
          "text": [
            "54158.75s - pydevd: Sending message related to process being replaced timed-out after 5 seconds\n"
          ]
        },
        {
          "name": "stdout",
          "output_type": "stream",
          "text": [
            "\u001b[1;31mE: \u001b[0mCould not open lock file /var/lib/dpkg/lock-frontend - open (13: Permission denied)\u001b[0m\n",
            "\u001b[1;31mE: \u001b[0mUnable to acquire the dpkg frontend lock (/var/lib/dpkg/lock-frontend), are you root?\u001b[0m\n",
            "Using device: cpu\n"
          ]
        }
      ],
      "source": [
        "\n",
        "!pip install gymnasium[mujoco]\n",
        "!apt install -y libgl1-mesa-glx libosmesa6 libglfw3 patchelf\n",
        "import gymnasium as gym\n",
        "\n",
        "import torch\n",
        "from torch import nn, zeros\n",
        "from torch.optim import Adam\n",
        "from torch.utils.tensorboard import SummaryWriter\n",
        "from collections import deque\n",
        "import random\n",
        "import copy\n",
        "\n",
        "# device = \"cuda\" if torch.cuda.is_available() else \"cpu\"\n",
        "device = \"cpu\"\n",
        "print(f\"Using device: {device}\")\n",
        "\n",
        "# random seeds for reproducability\n",
        "torch.manual_seed(0)\n",
        "torch.cuda.manual_seed_all(0)\n",
        "random.seed(0)\n",
        "torch.backends.cudnn.deterministic = True\n",
        "torch.backends.cudnn.benchmark = False"
      ]
    },
    {
      "cell_type": "markdown",
      "metadata": {
        "id": "2ZXqBcnlJbar"
      },
      "source": [
        "## Replay Buffer\n",
        "This is boiler plate code that lets your off-policy algorithms store their interactions with the environment. **You shouldn't need to change this code.**"
      ]
    },
    {
      "cell_type": "code",
      "execution_count": 49,
      "metadata": {
        "id": "tY6FSSzcN1MX"
      },
      "outputs": [],
      "source": [
        "class ReplayBuffer:\n",
        "    def __init__(self):\n",
        "        self.buffer = deque(maxlen=1_000_000)\n",
        "        self.batch_size = 32\n",
        "\n",
        "    def store(self, state, action, reward, next_state, done):\n",
        "        transitions = list(zip(state, action, reward, next_state, 1 - torch.Tensor(done)))\n",
        "        self.buffer.extend(transitions)\n",
        "\n",
        "    def sample(self):\n",
        "        batch = random.sample(self.buffer, self.batch_size)\n",
        "        return [torch.stack(e).to(device) for e in zip(*batch)]  # states, actions, rewards, next_states, not_dones"
      ]
    },
    {
      "cell_type": "markdown",
      "metadata": {
        "id": "kEHCeEYVJsB8"
      },
      "source": [
        "## DRL Rollout\n",
        "Boiler plate code that initiates parallel environments and stores your agents $(s,a,r,s')$ interactions in a replay buffer. Also logs some stats to tensorboard. **You shouldn't need to change this code.**"
      ]
    },
    {
      "cell_type": "code",
      "execution_count": 50,
      "metadata": {
        "id": "Kc2yVA-CN1W-"
      },
      "outputs": [],
      "source": [
        "class DRL:\n",
        "    def __init__(self):\n",
        "        self.n_envs = 32\n",
        "        self.n_steps = 128\n",
        "\n",
        "        self.envs = gym.vector.SyncVectorEnv(\n",
        "            [lambda: gym.make(\"InvertedPendulum-v5\", reset_noise_scale=0.2) for _ in range(self.n_envs)])\n",
        "\n",
        "        self.replay_buffer = ReplayBuffer()\n",
        "\n",
        "    def rollout(self, agent, i):\n",
        "        \"\"\"Collect experience and store it in the replay buffer\"\"\"\n",
        "\n",
        "        obs = torch.Tensor(self.envs.reset()[0])\n",
        "\n",
        "        total_rewards = torch.zeros(self.n_envs)\n",
        "\n",
        "        for _ in range(self.n_steps):\n",
        "            with torch.no_grad():\n",
        "                actions = agent.get_action(obs.to(device), noisy=True).cpu()\n",
        "            next_obs, rewards, done, truncated, _ = self.envs.step(actions.numpy())\n",
        "            next_obs, rewards = torch.Tensor(next_obs), torch.Tensor(rewards)\n",
        "            # reward scaling by .01 keeps sum of rewards near 1, increases stability\n",
        "            self.replay_buffer.store(obs, actions, rewards*.01, next_obs, done | truncated)\n",
        "            obs = next_obs\n",
        "\n",
        "            total_rewards += rewards\n",
        "\n",
        "        writer.add_scalar(\"stats/Rewards\", total_rewards.mean().item() / self.n_steps, i)"
      ]
    },
    {
      "cell_type": "code",
      "execution_count": 51,
      "metadata": {
        "cellView": "form",
        "id": "e5DIP5l2eb3z"
      },
      "outputs": [],
      "source": [
        "# @title Visualization code. Used later.\n",
        "import os\n",
        "from gym.wrappers import RecordVideo\n",
        "from IPython.display import Video, display, clear_output\n",
        "\n",
        "# Force MuJoCo to use EGL for rendering (important for Colab)\n",
        "os.environ[\"MUJOCO_GL\"] = \"egl\"\n",
        "\n",
        "def visualize(agent):\n",
        "    \"\"\"Visualize agent with a custom camera angle.\"\"\"\n",
        "\n",
        "    # Create environment in rgb_array mode\n",
        "    env = gym.make(\"InvertedPendulum-v5\", render_mode=\"rgb_array\", reset_noise_scale=0.2)\n",
        "\n",
        "    # Apply video recording wrapper\n",
        "    env = RecordVideo(env, video_folder=\"./\", episode_trigger=lambda x: True)\n",
        "\n",
        "    obs, _ = env.reset()\n",
        "\n",
        "    # Access the viewer object through mujoco_py\n",
        "    viewer = env.unwrapped.mujoco_renderer.viewer  # Access viewer\n",
        "    viewer.cam.distance = 3.0     # Set camera distance\n",
        "    viewer.cam.azimuth = 90       # Rotate camera around pendulum\n",
        "    viewer.cam.elevation = 0   # Tilt the camera up/down\n",
        "\n",
        "\n",
        "    for t in range(512):\n",
        "        with torch.no_grad():\n",
        "            actions = agent.get_action(torch.Tensor(obs).to(device)[None, :])[:, 0]\n",
        "        obs, _, done, _, _= env.step(actions.cpu().numpy())\n",
        "        if done:\n",
        "            break\n",
        "    env.close()\n",
        "\n",
        "    # Display the latest video\n",
        "    clear_output(wait=True)\n",
        "    display(Video(\"./rl-video-episode-0.mp4\", embed=True))\n",
        "\n"
      ]
    },
    {
      "cell_type": "markdown",
      "metadata": {
        "id": "PWsqAz6VRypQ"
      },
      "source": [
        "# Tensorboard\n"
      ]
    },
    {
      "cell_type": "markdown",
      "metadata": {
        "id": "Dx4YzpR71tjp"
      },
      "source": [
        "This will launch an interactive tensorboard window within collab. It will display rewards in (close to) real time while your agents are training. You'll likely have to refresh if its not updating (circular arrow to right in the orange bar). **You shouldn't need to change this code.**"
      ]
    },
    {
      "cell_type": "code",
      "execution_count": 52,
      "metadata": {
        "id": "jCFMyCuIPHN3"
      },
      "outputs": [
        {
          "name": "stdout",
          "output_type": "stream",
          "text": [
            "The tensorboard extension is already loaded. To reload it, use:\n",
            "  %reload_ext tensorboard\n"
          ]
        },
        {
          "data": {
            "text/plain": [
              "Reusing TensorBoard on port 6006 (pid 9628), started 19:25:16 ago. (Use '!kill 9628' to kill it.)"
            ]
          },
          "metadata": {},
          "output_type": "display_data"
        },
        {
          "data": {
            "text/html": [
              "\n",
              "      <iframe id=\"tensorboard-frame-629f6fbed82c07cd\" width=\"100%\" height=\"800\" frameborder=\"0\">\n",
              "      </iframe>\n",
              "      <script>\n",
              "        (function() {\n",
              "          const frame = document.getElementById(\"tensorboard-frame-629f6fbed82c07cd\");\n",
              "          const url = new URL(\"http://localhost\");\n",
              "          const port = 6006;\n",
              "          if (port) {\n",
              "            url.port = port;\n",
              "          }\n",
              "          frame.src = url;\n",
              "        })();\n",
              "      </script>\n",
              "    "
            ],
            "text/plain": [
              "<IPython.core.display.HTML object>"
            ]
          },
          "metadata": {},
          "output_type": "display_data"
        }
      ],
      "source": [
        "# Launch TensorBoard\n",
        "%load_ext tensorboard\n",
        "%tensorboard --logdir runs"
      ]
    },
    {
      "cell_type": "markdown",
      "metadata": {
        "id": "qItDHaIL_z1Y"
      },
      "source": [
        "_________________________________\n",
        "# 1. Deep Q Networks (DQN) [30 pts]"
      ]
    },
    {
      "cell_type": "markdown",
      "metadata": {
        "id": "W8_pui26OT0E"
      },
      "source": [
        "\n",
        "1.   Define your Q network and Q target network [5 pts]\n",
        "2.   Define the Q network optimizer [5 pts]\n",
        "3.   Define the Q loss [15 pts]\n",
        "3.   Conceptual questions [5 pts]\n",
        "_________________________________\n",
        "#### Background\n",
        "\n",
        "DQN is an off-policy reinforcement learning algorithm that extends Q-learning using deep neural networks. It is designed for environments with discrete action spaces and was used to achieve human-level performance in Atari games in a seminal 2013 [paper](https://arxiv.org/abs/1312.5602). Its key innovations relative to naive neural fitted Q iteration include replay buffers (which decorrelate samples) and target networks (which give Q learning a stationary target to converge to).\n",
        "\n",
        "We will use DQN to solve a continuous action space problem by discretizing. We map discete indices $[0, 1]$ to continuous actions $[-3, 3]$ and vis versa.\n",
        "___________________________________\n",
        "\n",
        "#### Temporal Difference Q Loss for DQN:\n",
        "\n",
        "$$\n",
        "\\mathcal{L}(\\theta) = \\frac{1}{N} \\sum_{i=0}^N \\{Q_\\theta(s_t, a_t) - q_{\\text{target}}\\}^2\\\\\n",
        "q_{\\text{target}} = r_t + \\gamma \\max_{a_{t+1}}Q_{\\theta_\\text{target}}(s_{t+1}, a_{t+1}) \\cdot \\text{not\\_done}_t\n",
        "$$\n",
        "\n",
        "or equivalenty, more concisely:\n",
        "$$\n",
        "\\mathcal{L}(\\theta) = \\mathbb{E}[\\{Q_\\theta(s, a) - (r_t + \\gamma \\max_{a'}Q_{\\theta_\\text{target}}(s', a') \\cdot \\text{not\\_done})\\}^2]\n",
        "$$\n",
        "(hint: Don't actually use a for loop. Use torch's batched operations for greater training speed.)\n",
        "\n",
        "Where:\n",
        "- $ \\mathcal{L} $ is the Q net loss; a function of Q network parameters $\\theta$\n",
        "- $N$ is the size of the minibatch\n",
        "-$Q_\\theta$ is the Q network parametrized by $\\theta$\n",
        "-$s_t$ is state at timestep $t$\n",
        "-$a_t$ is action at timestep $t$\n",
        "-$r_t$ is reward at timestep $t$\n",
        "-$\\gamma$ is the discount factor on rewards\n",
        "-$Q_{\\theta_\\text{target}}$ is the Q target network parametrized by ${\\theta_\\text{target}}$\n",
        "-$s_{t+1}$ or $s'$ is state at timestep $t+1$ (hint: comes from replay buffer)\n",
        "-$a_{t+1}$ or $a'$ is action at timestep $t+1$ (hint: implied from max next Q)\n",
        "-$\\text{not\\_done}_t$ or $\\text{not\\_done}$ is the not done flag for timestep $t$ indicating state $s_t$ is not terminal (i.e. Q next should be considered)\n",
        "-$\\mathbb{E}$ is the expectation or average over the minibatch\n"
      ]
    },
    {
      "cell_type": "code",
      "execution_count": 53,
      "metadata": {
        "id": "NRJPEtLON1gw"
      },
      "outputs": [],
      "source": [
        "class DQN:\n",
        "    def __init__(self, n_obs, n_actions):\n",
        "        self.n_actions = n_actions\n",
        "        self.exploration_rate = 1.\n",
        "        torch.manual_seed(0)  # for fair comparison\n",
        "\n",
        "        # todo: student code here\n",
        "        # Define Q-network, hint: dont forget .to(device), use atleast 1 nonlinear activation. Outputs values for each action\n",
        "        self.q_net = nn.Sequential(\n",
        "            nn.Linear(n_obs, 64),\n",
        "            nn.ReLU(),\n",
        "            nn.Linear(64, 128),\n",
        "            nn.ReLU(),\n",
        "            nn.Linear(128, n_actions)\n",
        "        ).to(device)\n",
        "\n",
        "        # Define Q-target network, hint: deepcopy\n",
        "        self.q_target_net = copy.deepcopy(self.q_net).to(device)\n",
        "\n",
        "        # Define optimizer, hint: Adam, learning rate 3e-4 is a good place to start but feel free to try others\n",
        "        self.optimizer = Adam(params=self.q_net.parameters(), lr=3e-4)\n",
        "        # end student code\n",
        "\n",
        "\n",
        "    def get_action(self, states, noisy=False):\n",
        "        if noisy and torch.rand(1).item() < self.exploration_rate:\n",
        "            # Random action with probability self.exploration_rate\n",
        "            actions = torch.randint(0, self.n_actions, (states.shape[0],1))\n",
        "        else:\n",
        "            # Greedy action selection\n",
        "            with torch.no_grad(): actions = self.q_net(states).argmax(dim=-1, keepdim=True)\n",
        "        return (actions.float() - 0.5) * 6  # maps discrete [0, 1] to continuous [-3., 3.]\n",
        "\n",
        "\n",
        "    def get_q_loss(self, states, actions, rewards, next_states, not_dones, gamma=.99):\n",
        "        actions = (actions/6 + .5).long() # maps continous [-3., 3.] to discrete [0, 1]\n",
        "\n",
        "        # todo: student code here\n",
        "        with torch.no_grad():\n",
        "            # hint: compute Q for all next states using q target network\n",
        "            # States: batch_size x n_obs\n",
        "            all_next_Q = self.q_target_net(next_states)\n",
        "\n",
        "        # hint: take the max next q over actions\n",
        "        max_next_Q, _ = torch.max(all_next_Q, dim=-1)\n",
        "\n",
        "        # hint: calculate q_target equation\n",
        "        q_target = rewards + gamma*max_next_Q*not_dones\n",
        "\n",
        "        # hint: compute the q values of all actions in state using q network\n",
        "        all_Q = self.q_net(states)\n",
        "\n",
        "        # hint: gather the q values of the actions that were actually taken\n",
        "        Q = all_Q.gather(1, actions).squeeze(-1)\n",
        "\n",
        "        # hint: compute Mean Squared Error loss between Q and q_target\n",
        "        criterion = nn.MSELoss()\n",
        "        loss = criterion(Q,q_target)\n",
        "        # end student code\n",
        "\n",
        "        return loss\n",
        "\n",
        "\n",
        "    def update(self, replay_buffer, i):\n",
        "        for _ in range(64):\n",
        "            loss = self.get_q_loss(*replay_buffer.sample())\n",
        "            self.optimizer.zero_grad()\n",
        "            loss.backward()\n",
        "            self.optimizer.step()\n",
        "        writer.add_scalar(\"loss/q loss\", loss.item(), i)\n",
        "\n",
        "        # Periodic hard update Q-target network to Q-network\n",
        "        if i % 16 == 0:\n",
        "            self.q_target_net.load_state_dict(self.q_net.state_dict())\n",
        "\n",
        "        # decay and log exploration rate\n",
        "        self.exploration_rate = max(self.exploration_rate * 0.985, 0.05)\n",
        "        writer.add_scalar(\"stats/exploration rate\", self.exploration_rate, i)\n"
      ]
    },
    {
      "cell_type": "code",
      "execution_count": 54,
      "metadata": {
        "cellView": "form",
        "id": "FMlfTGEMVmH9"
      },
      "outputs": [
        {
          "name": "stdout",
          "output_type": "stream",
          "text": [
            "Test passed: DQN Q nets appears correct!\n",
            "Test passed: DQN Optimizer appears correct!\n",
            "Test passed: DQN loss appears correct!\n"
          ]
        }
      ],
      "source": [
        "# @title DQN Unit Tests (must run DQN Agent cell above first)\n",
        "def DQN_q_net():\n",
        "    a = DQN(16, 7)\n",
        "    assert a.q_net is not None, \"q_net not initialized\"\n",
        "    assert a.q_target_net is not None, \"q_target_net is not initialized\"\n",
        "    r = torch.randn(8, 16).to(device)\n",
        "    assert a.q_net(r).shape == (8, 7) and \\\n",
        "    isinstance(list(a.q_net.children())[-1], nn.Linear), \\\n",
        "    f\"Network not initialized correctly\"\n",
        "    assert a.q_target_net(r).shape == (8, 7) and \\\n",
        "    isinstance(list(a.q_target_net.children())[-1], nn.Linear), \\\n",
        "    f\"Networks not initialized correctly\"\n",
        "    print(\"Test passed: DQN Q nets appears correct!\")\n",
        "DQN_q_net()\n",
        "\n",
        "def test_DQN_optimizer():\n",
        "    a = DQN(16, 7)\n",
        "    assert a.optimizer is not None, \"Optimizer is not initialized\"\n",
        "    assert set(p for p in a.q_net.parameters())  == \\\n",
        "    set(p for group in a.optimizer.param_groups for p in group['params']),\\\n",
        "    \"Optimizer does not match q_net parameters\"\n",
        "    print(\"Test passed: DQN Optimizer appears correct!\")\n",
        "test_DQN_optimizer()\n",
        "\n",
        "def DQN_loss():\n",
        "    torch.manual_seed(0)\n",
        "    # these dont match an actual rollout..\n",
        "    # print debug values during training loop rather than unit tests\n",
        "    batch_size, n_obs, n_actions = 5, 4, 1\n",
        "    s = torch.rand((batch_size, n_obs))\n",
        "    a = (torch.randint(0, 2, (batch_size, n_actions)).float() - 0.5) * 6\n",
        "    r = torch.rand((batch_size,))\n",
        "    s_ = torch.rand((batch_size, n_obs))\n",
        "    not_dones = torch.randint(0, 2, (batch_size,)).float()\n",
        "\n",
        "    dqn = DQN(4, 2)\n",
        "    torch.manual_seed(0)\n",
        "    dqn.q_net = nn.Linear(4, 2) # you should not use this architecture..\n",
        "    dqn.q_target_net = nn.Linear(4, 2)\n",
        "    loss = dqn.get_q_loss(s, a, r, s_, not_dones)\n",
        "    assert abs(loss.item() - (0.1567)) < 1e-4, \\\n",
        "    \"DQN loss does not match expected value.\"\n",
        "    print(\"Test passed: DQN loss appears correct!\")\n",
        "\n",
        "DQN_loss()"
      ]
    },
    {
      "cell_type": "code",
      "execution_count": 55,
      "metadata": {
        "id": "-AfCDYn7O-BN"
      },
      "outputs": [],
      "source": [
        "# tensorboard label can be changed with e.g. f'runs/unique_hyperparam_test'\n",
        "writer = SummaryWriter(log_dir=f'runs/DQN')\n",
        "\n",
        "drl = DRL()\n",
        "dqn = DQN(n_obs=4, n_actions=2)\n",
        "\n",
        "# takes ~5-10 minutes on google colab gpus\n",
        "for i in range(512):\n",
        "\n",
        "    drl.rollout(dqn, i)\n",
        "    dqn.update(drl.replay_buffer, i)"
      ]
    },
    {
      "cell_type": "code",
      "execution_count": 56,
      "metadata": {
        "id": "ufRkeb6sPwuS"
      },
      "outputs": [
        {
          "data": {
            "text/html": [
              "<video controls  >\n",
              " <source src=\"data:video/mp4;base64,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\" type=\"video/mp4\">\n",
              " Your browser does not support the video tag.\n",
              " </video>"
            ],
            "text/plain": [
              "<IPython.core.display.Video object>"
            ]
          },
          "metadata": {},
          "output_type": "display_data"
        },
        {
          "name": "stdout",
          "output_type": "stream",
          "text": [
            "DQN\n"
          ]
        }
      ],
      "source": [
        "visualize(dqn) # run again to see a different rollout\n",
        "print(\"DQN\")"
      ]
    },
    {
      "cell_type": "markdown",
      "metadata": {
        "id": "kG44n8Ks2QC-"
      },
      "source": [
        "**DQN Conceptual Question 1 - Target Networks:**\n",
        "\n",
        "DQN uses target networks to stabilize training. DQN Loss:\n",
        "$$\n",
        "\\mathcal{L}(\\theta) = \\mathbb{E}[\\{Q_\\theta(s, a) - (r_t + \\gamma \\max_{a'}Q_{\\theta_\\text{target}}(s', a') \\cdot \\text{not\\_done})\\}^2]\n",
        "$$\n",
        "But, what if you didn't use a target network:\n",
        "$$\n",
        "\\mathcal{L}(\\theta) = \\mathbb{E}[\\{Q_\\theta(s, a) - (r_t + \\gamma \\max_{a'}Q_{\\theta}(s', a') \\cdot \\text{not\\_done})\\}^2]\n",
        "$$\n",
        "\n",
        "(Optionally, make this actual change in code and observe training results for yourself. Its a one line change. Make sure to revert or comment it before submitting. Any code change is not for credit, but may aid understanding. You can change the name of the tensorboard run for direct visual comparison.)\n",
        "\n",
        "In 1 or 2 sentences, what could happen to your Q loss over the course of training if you modified the DQN loss equation so that a target network is not used? Why?\n",
        "\n",
        "\n",
        "**Type answer here...**"
      ]
    },
    {
      "cell_type": "markdown",
      "metadata": {
        "id": "6IDTv7DL8QTq"
      },
      "source": [
        "**DQN Conceptual Question 2 - Double DQN:**\n",
        "\n",
        "The loss function for Double DQN improves upon standard DQN by using the Q-network to select the best action and the target Q-network to evaluate it:\n",
        "\n",
        "$$\n",
        "\\mathcal{L}_\\text{double dqn}(\\theta) = \\mathbb{E} \\{ ( Q_{\\theta}(s, a) - [ r_t + \\gamma Q_{\\theta_{\\text{target}}}(s', \\arg\\max_{a'} Q_{\\theta}(s', a')) \\cdot \\text{not\\_done} ] )^2 \\}\n",
        "$$\n",
        "\n",
        "(Optionally, implement this in code and observe the training, but comment or revert changes before submitting.)\n",
        "\n",
        "In 1 or 2 sentences, explain the intuition behind why this might improve performance.\n",
        "\n",
        "**Type answer here**..."
      ]
    },
    {
      "cell_type": "markdown",
      "metadata": {
        "id": "pQ1i0MUp_3rT"
      },
      "source": [
        "_________________________________\n",
        "# 2. Deep Deterministic Policy Gradients (DDPG) [40 pts]"
      ]
    },
    {
      "cell_type": "markdown",
      "metadata": {
        "id": "68qST7yEf39l"
      },
      "source": [
        "\n",
        "1.   Define your Q network, Q target network, policy network, and policy target network [5 pts]\n",
        "2.   Define the Q network optimizer and policy network optimizer [5 pts]\n",
        "3.   Define the Q loss [15 pts] and policy loss [10 pts]\n",
        "3.   Conceptual questions [5 pts]\n",
        "_________________________________\n",
        "#### Background\n",
        "\n",
        "DDPG is an off-policy reinforcement learning algorithm that extends DQN to continuous action spaces. It is based off a theortical publication called Deterministic Policy Gradients. It solved many robotics tasks in a seminal 2015 [publication](https://arxiv.org/abs/1509.02971). Its key innovations relative to DQN are (1) a policy network which is trained to produce deterministic, continous actions that maximize the Q function, and (2) soft target updates.\n",
        "\n",
        "We will use it to solve a continuous action space environment natively, without discretization.\n",
        "________________________________\n",
        "\n",
        "#### DQN vs DDPG\n",
        "\n",
        "**Q networks**: Q networks in DQN take in states and output the Q value for each action. Q networks in the continuous case take in both the state and action and output a single Q estimate.\n",
        "\n",
        "**Policies**: The policy in DQN comes from taking the action corresponding to the max Q value over discrete options. The policy in DDPG comes from training a network which takes in states/observations and outputs continuous actions that are trained to maximize Q. Since the policy approximates the max operator, explicit $\\max_{a'}$ is dropped from the Temporal Difference Q loss.\n",
        "________________________________\n",
        "\n",
        "#### Temporal Difference Q Loss for DDPG:\n",
        "\n",
        "$$\n",
        "\\mathcal{L}(\\theta) = \\mathbb{E}[\\{Q_\\theta(s, a) - (r_t + \\gamma Q_{\\theta_\\text{target}}(s', a') \\cdot \\text{not\\_done})\\}^2]\n",
        "$$\n",
        "\n",
        "\n",
        "Where:\n",
        "- $ \\mathcal{L} $ is the Q net loss; a function of Q network parameters $\\theta$\n",
        "- $E$ is the expectation or average over the minibatch\n",
        "-$Q_\\theta$ is the Q network parametrized by $\\theta$\n",
        "-$s_t$ is state at timestep $t$\n",
        "-$a_t$ is action at timestep $t$\n",
        "-$r_t$ is reward at timestep $t$\n",
        "-$\\gamma$ is the discount factor on rewards\n",
        "-$Q_{\\theta_\\text{target}}$ is the Q target network parametrized by ${\\theta_\\text{target}}$\n",
        "-$s'$ is state at timestep $t+1$ (hint: comes from replay buffer)\n",
        "-$a'$ is action at timestep $t+1$ (hint: comes from policy target network applied to next state. get_target_action())\n",
        "- $E$ is the expectation or average over the minibatch\n",
        "\n",
        "_______________________________\n",
        "\n",
        "#### Policy Loss for DDPG:\n",
        "$$\n",
        "\\mathcal{L}(\\theta_p) = -\\mathbb{E}[Q_\\theta(s, a)]\n",
        "$$\n",
        "\n",
        "Where:\n",
        "- $ \\mathcal{L} $ is the policy loss; a function of policy parameters $\\theta_p$\n",
        "- $E$ is the expectation or average over the minibatch\n",
        "-$Q_\\theta$ is the Q network parametrized by $\\theta$\n",
        "- $s$ is state\n",
        "- $a$ is the deterministic action the policy would take in state $s$ (hint: get_action())"
      ]
    },
    {
      "cell_type": "code",
      "execution_count": 57,
      "metadata": {
        "id": "NinRktLJf21H"
      },
      "outputs": [],
      "source": [
        "class DDPG:\n",
        "    def __init__(self, n_obs, n_actions):\n",
        "        self.exploration_rate = 1.\n",
        "        torch.manual_seed(0)\n",
        "\n",
        "        # todo: student code here\n",
        "        self.q_net = nn.Sequential(\n",
        "            nn.Linear(n_obs+n_actions,64),\n",
        "            nn.ReLU(),\n",
        "            nn.Linear(64,1)\n",
        "        ).to(device)\n",
        "\n",
        "        self.policy = nn.Sequential(\n",
        "            nn.Linear(n_obs,64),\n",
        "            nn.ReLU(),\n",
        "            nn.Linear(64,n_actions)\n",
        "        ).to(device)\n",
        "\n",
        "        self.q_target_net = copy.deepcopy(self.q_net).to(device)\n",
        "        self.policy_target_net = copy.deepcopy(self.policy).to(device)\n",
        "\n",
        "        self.q_optimizer = Adam(params=self.q_net.parameters(),lr=3e-3)\n",
        "        self.policy_optimizer = Adam(params=self.policy.parameters(),lr=3e-3)\n",
        "        # end student code\n",
        "\n",
        "\n",
        "    def get_action(self, states, noisy=False):\n",
        "        actions = self.policy(states)\n",
        "        if noisy:\n",
        "          actions += torch.normal(0, self.exploration_rate, size=actions.shape).to(device)\n",
        "        return actions.clamp(-3, 3)\n",
        "\n",
        "    def get_target_action(self, next_states):\n",
        "        actions = self.policy_target_net(next_states)\n",
        "        return actions.clamp(-3, 3)\n",
        "\n",
        "    def get_q_loss(self, states, actions, rewards, next_states, not_dones, gamma=.99):\n",
        "\n",
        "        #todo: student code here\n",
        "        with torch.no_grad():\n",
        "\n",
        "            # 1) Get next actions from target policy\n",
        "            next_actions = self.policy_target_net(next_states)\n",
        "\n",
        "            # 2) Get target value from next states and next actions\n",
        "            next_state_action_vec = torch.cat((next_states,next_actions),dim=-1)\n",
        "            q_next = self.q_target_net(next_state_action_vec)\n",
        "\n",
        "        # 3) Get value from current states and current actions\n",
        "        state_action_vec = torch.cat((states,actions),dim=-1)\n",
        "        q = self.q_net(state_action_vec)\n",
        "\n",
        "        # 4) Get target q \n",
        "        q_target = rewards.unsqueeze(-1) + gamma*q_next*not_dones.unsqueeze(-1)\n",
        "\n",
        "        # 5) Get q loss\n",
        "        criterion = nn.MSELoss()\n",
        "        Q_loss = criterion(q,q_target)\n",
        "        # end student code\n",
        "\n",
        "        return Q_loss\n",
        "\n",
        "\n",
        "    def get_policy_loss(self, states):\n",
        "        # todo: student code here\n",
        "        # 1) Get actions\n",
        "        actions = self.policy(states)\n",
        "        state_action_vec = torch.cat((states,actions),dim=-1)\n",
        "\n",
        "        policy_loss = -torch.mean(self.q_net(state_action_vec))\n",
        "\n",
        "        # end student code\n",
        "        return policy_loss\n",
        "\n",
        "\n",
        "    def update(self, replay_buffer, i):\n",
        "\n",
        "        for _ in range(64):\n",
        "            loss = self.get_q_loss(*replay_buffer.sample())\n",
        "            self.q_optimizer.zero_grad()\n",
        "            loss.backward()\n",
        "            self.q_optimizer.step()\n",
        "        writer.add_scalar(\"loss/q loss\", loss.item(), i)\n",
        "\n",
        "        for _ in range(4):\n",
        "            states, _, _, _, _ = replay_buffer.sample()\n",
        "            loss = self.get_policy_loss(states)\n",
        "            self.policy_optimizer.zero_grad()\n",
        "            loss.backward()\n",
        "            self.policy_optimizer.step()\n",
        "        writer.add_scalar(\"loss/ - policy loss\", -loss.item(), i)\n",
        "\n",
        "        tau = 0.1  # Continual soft target update\n",
        "        for target_param, param in zip(self.q_target_net.parameters(), self.q_net.parameters()):\n",
        "            target_param.data.copy_(tau * param.data + (1 - tau) * target_param.data)\n",
        "\n",
        "        for target_param, param in zip(self.policy_target_net.parameters(), self.policy.parameters()):\n",
        "            target_param.data.copy_(tau * param.data + (1 - tau) * target_param.data)\n",
        "\n",
        "        self.exploration_rate  = max(self.exploration_rate  * 0.985, 0.05)\n",
        "        writer.add_scalar(\"stats/exploration rate\", self.exploration_rate , i)\n",
        "\n"
      ]
    },
    {
      "cell_type": "code",
      "execution_count": 58,
      "metadata": {},
      "outputs": [
        {
          "name": "stdout",
          "output_type": "stream",
          "text": [
            "Test passed: DDPG nets appear correct!\n",
            "Test passed: DDPG optimizer appears correct!\n",
            "Test passed: DDPG q loss appears correct!\n",
            "Test passed: DDPG policy loss appears correct!\n"
          ]
        }
      ],
      "source": [
        "# @title DDPG Unit Tests (must run DDPG Agent cell above first)\n",
        "def DDPG_nets():\n",
        "    a = DDPG(16, 7)\n",
        "    assert a.q_net is not None, \"q_net not initialized\"\n",
        "    assert a.q_target_net is not None, \"q_target_net is not initialized\"\n",
        "    assert a.policy is not None, \"policy is not initialized\"\n",
        "    assert a.policy_target_net is not None, \"policy_target_net is not initialized\"\n",
        "    r = torch.randn(8, 23).to(device)\n",
        "\n",
        "    # this doesnt check if target is the same architecture as q\n",
        "    # but it should be\n",
        "    assert a.q_net(r).shape == (8, 1) and \\\n",
        "    isinstance(list(a.q_net.children())[-1], nn.Linear), \\\n",
        "    f\"Network not initialized correctly\"\n",
        "    assert a.q_target_net(r).shape == (8, 1) and \\\n",
        "    isinstance(list(a.q_target_net.children())[-1], nn.Linear), \\\n",
        "    f\"Networks not initialized correctly\"\n",
        "\n",
        "    r = torch.randn(8, 16).to(device)\n",
        "    assert a.policy(r).shape == (8, 7), \\\n",
        "    f\"Networks not initialized correctly\"\n",
        "    assert a.policy_target_net(r).shape == (8, 7), \\\n",
        "    f\"Networks not initialized correctly\"\n",
        "    print(\"Test passed: DDPG nets appear correct!\")\n",
        "DDPG_nets()\n",
        "\n",
        "def test_DDPG_optimizer():\n",
        "    a = DDPG(16, 7)\n",
        "    assert a.q_optimizer is not None, \"Q Optimizer is not initialized\"\n",
        "    assert a.policy_optimizer is not None, \"Policy Optimizer is not initialized\"\n",
        "\n",
        "    assert set(p for p in a.q_net.parameters())  == \\\n",
        "    set(p for group in a.q_optimizer.param_groups for p in group['params']),\\\n",
        "    \"Q optimizer does not match q_net parameters\"\n",
        "\n",
        "    assert set(p for p in a.policy.parameters())  == \\\n",
        "    set(p for group in a.policy_optimizer.param_groups for p in group['params']),\\\n",
        "    \"Policy optimizer does not match policy parameters\"\n",
        "\n",
        "    print(\"Test passed: DDPG optimizer appears correct!\")\n",
        "test_DDPG_optimizer()\n",
        "\n",
        "def DDPG_q_loss():\n",
        "    torch.manual_seed(0)\n",
        "\n",
        "    # these dont match an actual rollout..\n",
        "    # print debug values during training loop rather than unit tests\n",
        "    batch_size, n_obs, n_actions = 5, 4, 1\n",
        "    s = torch.rand((batch_size, n_obs))\n",
        "    a = (torch.rand((batch_size, n_actions)) - 0.5) * 6\n",
        "    r = torch.rand((batch_size,))\n",
        "    s_ = torch.rand((batch_size, n_obs))\n",
        "    not_dones = torch.randint(0, 2, (batch_size,))\n",
        "\n",
        "    ddpg = DDPG(4, 1)\n",
        "    torch.manual_seed(0)\n",
        "    ddpg.q_net = nn.Linear(5, 1) # you should not use this architecture..\n",
        "    ddpg.q_target_net = nn.Linear(5, 1)\n",
        "    ddpg.policy = nn.Linear(4, 1)\n",
        "    ddpg.policy_target_net = nn.Linear(4, 1)\n",
        "    loss = ddpg.get_q_loss(s, a, r, s_, not_dones)\n",
        "    # print(loss)\n",
        "    assert abs(loss.item() - (0.6036)) < 1e-4, \\\n",
        "    \"DDPG q loss does not match expected value.\"\n",
        "    print(\"Test passed: DDPG q loss appears correct!\")\n",
        "DDPG_q_loss()\n",
        "\n",
        "def DDPG_policy_loss():\n",
        "    torch.manual_seed(0)\n",
        "\n",
        "    batch_size, n_obs, n_actions = 5, 4, 1\n",
        "    s = torch.rand((batch_size, n_obs))\n",
        "\n",
        "    ddpg = DDPG(4, 1)\n",
        "    torch.manual_seed(0)\n",
        "    ddpg.q_net = nn.Linear(5, 1) # you should not use this architecture..\n",
        "    ddpg.q_target_net = nn.Linear(5, 1)\n",
        "    ddpg.policy = nn.Linear(4, 1)\n",
        "    ddpg.policy_target_net = nn.Linear(4, 1)\n",
        "    loss = ddpg.get_policy_loss(s)\n",
        "    # print(loss)\n",
        "    assert abs(loss.item() - (-0.0553)) < 1e-4, \\\n",
        "    \"DDPG policy loss does not match expected value.\"\n",
        "    print(\"Test passed: DDPG policy loss appears correct!\")\n",
        "DDPG_policy_loss()\n"
      ]
    },
    {
      "cell_type": "code",
      "execution_count": 64,
      "metadata": {
        "id": "bqCM_Es0jGPs"
      },
      "outputs": [],
      "source": [
        "# DDPG training loop\n",
        "\n",
        "# tensorboard label can be changed with e.g. f'runs/unique_hyperparam_test'\n",
        "writer = SummaryWriter(log_dir=f'runs/DDPG')\n",
        "\n",
        "drl = DRL()\n",
        "ddpg = DDPG(n_obs=4, n_actions=1)\n",
        "\n",
        "# takes ~5-10 minutes on colab gpus\n",
        "for i in range(512):\n",
        "\n",
        "    drl.rollout(ddpg, i)\n",
        "    ddpg.update(drl.replay_buffer, i)"
      ]
    },
    {
      "cell_type": "code",
      "execution_count": 60,
      "metadata": {
        "id": "06u6AzyUxd2f"
      },
      "outputs": [
        {
          "data": {
            "text/html": [
              "<video controls  >\n",
              " <source src=\"data:video/mp4;base64,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\" type=\"video/mp4\">\n",
              " Your browser does not support the video tag.\n",
              " </video>"
            ],
            "text/plain": [
              "<IPython.core.display.Video object>"
            ]
          },
          "metadata": {},
          "output_type": "display_data"
        }
      ],
      "source": [
        "visualize(ddpg)"
      ]
    },
    {
      "cell_type": "markdown",
      "metadata": {
        "id": "I0m3xIFxPsTi"
      },
      "source": [
        "**DDPG Conceptual Question 1 - Optimizers:**\n",
        "\n",
        "In HW1 we used a single combined optimizer for both value and policy nets. For DDPG, we need separate optimizers for Q and Policy nets. Why is that? (hint: policy loss)\n",
        "\n",
        "**Type answer here...**"
      ]
    },
    {
      "cell_type": "markdown",
      "metadata": {
        "id": "IYnwAlKPQKW5"
      },
      "source": [
        "**DDDP Conceptual Question 1 - Replay Buffers:**\n",
        "\n",
        "Every policy rollout (defined in boiler plate code) uses 32 parallel environments simulated for 128 timesteps.\n",
        "```\n",
        "class DRL:\n",
        "    def __init__(self):\n",
        "        self.n_envs = 32\n",
        "        self.n_steps = 128\n",
        "```\n",
        "Additionally, our replay buffer (defined in boiler plate code) is large enough to hold 1,000,000 transitions.\n",
        "```\n",
        "class ReplayBuffer:\n",
        "    def __init__(self):\n",
        "        self.buffer = deque(maxlen=1_000_000)\n",
        "        self.batch_size = 32\n",
        "```\n",
        "\n",
        "In 1 or 2 sentences, what might happen to our training speed and stability if we collected less data per rollout and used a smaller replay buffer? Why? Lets say 1 environment, 32 steps, size 32 replay buffer. (Optionally, make these changes in code and observe training results yourselves. Note, if you test lower than 32 transitions you need to reduce ReplayBuffer.batch_size aswell. Comment or revert changes before submitting.)\n",
        "\n",
        "**Type answer here...**"
      ]
    },
    {
      "cell_type": "markdown",
      "metadata": {
        "id": "PuUizaqF_88H"
      },
      "source": [
        "_________________________________\n",
        "# 3. Optional Extra Credit: Soft Actor-Critic (SAC) [10 pts]"
      ]
    },
    {
      "cell_type": "markdown",
      "metadata": {
        "id": "N7T1jUo_5Vv7"
      },
      "source": [
        "\n",
        "1.   Implement a stochastic policy [4 pts]\n",
        "2.   Implement double Q Learning [3 pts]\n",
        "3.   Implement entropy regularization [3 pts]\n",
        "\n",
        "_________________________________\n",
        "#### Background\n",
        "\n",
        "SAC is a reinforcement learning algorithm that improves DDPG with better stability and exploration. It was introduced in a seminal [publication](https://arxiv.org/pdf/1801.01290) in 2017, and is often considered the go-to model-free off-policy method. Its key innovations relative to DDPG are a stochastic policy, double Q learning, and entropy regularization.\n",
        "\n",
        "We will use SAC to solve a continuous action space environment more robustly than DDPG.\n",
        "________________________________\n",
        "\n",
        "#### DDPG vs SAC\n",
        "\n",
        "**Determinism vs Stochasticity**: DDPG trains a deterministic policy network, which maps states to single continuous actions. Exploration noise has to be injected externally. SAC, on the other hand, learns a stochastic policy represented by a probability distribution over actions. It inherently explores. Additionally, DDPG can overfit to quirks of the q function, which can cause instability, premature convergence, or collapse. In contrast, SAC has stochasticity built into the loss equations, which results in an averaging effect that makes SAC networks less brittle and more stable.\n",
        "\n",
        "**Double Q**: DDPG uses one Q network. Building on the insight from Double DQN ($\\mathbb{E}[\\max(C_1, C_2)] \\geq \\max(\\mathbb{E}[C_1], \\mathbb{E}[C_2])$), SAC learns two separate Q networks, and uses them to mitigate over estimation bias.\n",
        "\n",
        "**Exploration and Entropy**: However exploration noise is injected in DDPG, it is state independent. SAC has adaptive state dependent exploration. As a function of state, its policy outputs the mean and log standard deviation of a guassian policy. The backprop process naturally produces broad guassians when q values are uncertain, and narrow guassians as q values converge. Furthermore, SAC uses entropy regularization to further encourage broad guassians which discourages premature suboptimal convergence.\n",
        "\n",
        "________________________________\n",
        "\n",
        "**Milestone 1 - Stochastic Policy**\n",
        "\n",
        "Re-implement DDPG with a stochastic policy, single q, no entropy.\n",
        "\n",
        "1. Copy-Paste your DDPG code (networks, optimizers, loss functions)\n",
        "  * update policy net output to be twice as large as before\n",
        "\n",
        "2. Finish implementing get_action() and get_target_action()\n",
        " * construct a torch.Normal distribution  using state dependent mean and std_dev\n",
        " * *rsample* actions (has to be rsample not sample for differentiability)\n",
        " * clamp actions to the valid range $[-3, 3]$\n",
        "3. Update DDPG losses for the stochastic policy. These are the same equations as DDPG, but the actions are now stochastically sampled.\n",
        "\n",
        "  * Q Loss\n",
        "$$\n",
        "\\mathcal{L}(\\theta) = \\mathbb{E}[Q_\\theta(s, a) - (r_t + \\gamma (Q_{\\theta_\\text{target}}(s', a'))]^2\n",
        "$$\n",
        "where $a'$ comes from calling get_target_action() on $s'$ with noisy=True.\n",
        "\n",
        "  * Policy Loss\n",
        "$$\n",
        "\\mathcal{L}(\\theta_p) = -\\mathbb{E}[Q_\\theta(s, a)]\n",
        "$$\n",
        "where $a$ comes from calling get_action() on $s$ with noisy=True.\n",
        "\n",
        "If you can pass the M1 unit test below, and can run a succesful training at this point, you've earned 4 points!\n",
        "\n",
        "**Milestone 2 - Double Q**\n",
        "\n",
        "Upgrade to Double Q learning for reduced overestimation bias.\n",
        "1. Update Q Networks\n",
        "  * Replace Q and Q_target with Q1, Q2, Q1_target, Q2_target.\n",
        "  * Update q_optimizer to hold parameters for Q1 and Q2\n",
        "2. Update Loss functions\n",
        "  * Q loss : Evaluate both q target nets on $s'$, use the minimum in constructing $q_{\\text{target}}$. Regress both networks to $q_{\\text{target}}$, by adding their MSE losses.\n",
        "$$\n",
        "q_{\\text{target}} = r_t + \\gamma \\min_{i = 1, 2} Q_{\\theta_{\\text{target}, i}}(s', a') \\cdot \\text{not\\_done}\\\\\n",
        "\\mathcal{L}(\\theta) = \\mathbb{E}[\\{Q_{\\theta_1}(s, a) - q_{\\text{target}}\\}^2] + \\mathbb{E}[\\{Q_{\\theta_2}(s, a) - q_{\\text{target}}\\}^2]\\\\\n",
        "$$\n",
        "  * Policy loss : Same as before but use Q1\n",
        "$$\n",
        "\\mathcal{L}(\\theta_p) = -\\mathbb{E}[Q_{\\theta_1}(s, a)]\n",
        "$$\n",
        "\n",
        "3. Modify the soft target updates in the update function to work for both Q1 and Q2\n",
        "\n",
        "If you can pass the M2 unit test below, and can run a succesful training at this point, you've earned 3 more points! (7 total)\n",
        "\n",
        "**Milestone 3 - Entropy Regularization**\n",
        "\n",
        "Upgrade to Entropy Regularization for better exploration.\n",
        "1. Update Q Loss : add an entropy term to $q_{\\text{target}}$\n",
        "$$\n",
        "q_{\\text{target}} = r_t + \\gamma \\{\\min_{i = 1, 2} Q_{\\theta_{\\text{target}, i}}(s', a')  + \\alpha H(\\pi(s')) \\}\\cdot \\text{not\\_done}\n",
        "$$\n",
        "where $\\alpha$ is a scaling *temperature* and $H$ is entropy of policy $\\pi$ at state $s'$ (hint: get_entropy function)\n",
        "\n",
        "\n",
        "2. Update Policy Loss :\n",
        "$$\n",
        "\\mathcal{L}(\\theta_p) = -\\mathbb{E}[Q_{\\theta_1}(s, a) + \\alpha H(\\pi(s))]\n",
        "$$\n",
        "If you can pass the M3 unit test below, and can run a succesful training at this point, you've earned 3 more points! (10 total)\n"
      ]
    },
    {
      "cell_type": "code",
      "execution_count": 61,
      "metadata": {},
      "outputs": [],
      "source": [
        "# THIS IS FOR M3\n",
        "\n",
        "from torch.distributions import Normal\n",
        "\n",
        "class SAC:\n",
        "    def __init__(self, n_obs, n_actions):\n",
        "        torch.manual_seed(0)\n",
        "        self.alpha = .002\n",
        "\n",
        "        # todo: student code here\n",
        "        self.q1_net = nn.Sequential(\n",
        "            nn.Linear(n_obs+n_actions,64),\n",
        "            nn.ReLU(),\n",
        "            nn.Linear(64,1)\n",
        "        ).to(device)\n",
        "\n",
        "        self.q2_net = nn.Sequential(\n",
        "            nn.Linear(n_obs+n_actions,64),\n",
        "            nn.ReLU(),\n",
        "            nn.Linear(64,1)\n",
        "        ).to(device)\n",
        "\n",
        "        self.policy = nn.Sequential(\n",
        "            nn.Linear(n_obs,64),\n",
        "            nn.ReLU(),\n",
        "            nn.Linear(64,n_actions*2)\n",
        "        ).to(device)\n",
        "\n",
        "        self.q1_target_net = copy.deepcopy(self.q1_net).to(device)\n",
        "        self.q2_target_net = copy.deepcopy(self.q1_net).to(device)\n",
        "        self.policy_target_net = copy.deepcopy(self.policy).to(device)\n",
        "\n",
        "        params_combined = list(self.q1_net.parameters()) + list(self.q2_net.parameters())\n",
        "        self.q_optimizer = Adam(params=params_combined,lr=3e-3)\n",
        "        self.policy_optimizer = Adam(params=self.policy.parameters(),lr=3e-3)\n",
        "        # end student code\n",
        "\n",
        "    def get_entropy(self, states):\n",
        "        mean, log_std_dev = self.policy(states).chunk(2, dim=-1)\n",
        "        std_dev = log_std_dev.exp().clamp(.2, 2)\n",
        "        H = Normal(mean, std_dev).entropy()\n",
        "        return H\n",
        "\n",
        "    def get_action(self, states, noisy=False):\n",
        "        mean, log_std_dev = self.policy(states).chunk(2, dim=-1)\n",
        "        if noisy == False:\n",
        "            return mean\n",
        "        else:\n",
        "            std_dev = log_std_dev.exp().clamp(.2, 2)\n",
        "\n",
        "            #todo: student code\n",
        "            # Get the action\n",
        "            dist = Normal(mean, std_dev)\n",
        "            action = dist.rsample().clamp(-3,3)\n",
        "            return action \n",
        "\n",
        "    def get_target_action(self, states, noisy=False):\n",
        "        mean, log_std_dev = self.policy_target_net(states).chunk(2, dim=-1)\n",
        "        if noisy == False:\n",
        "            return mean\n",
        "        else:\n",
        "            std_dev = log_std_dev.exp().clamp(.2, 2)\n",
        "            \n",
        "            #todo: student code\n",
        "            # Get the action\n",
        "            dist = Normal(mean, std_dev)\n",
        "            action = dist.rsample().clamp(-3,3)\n",
        "            return action \n",
        "\n",
        "    def get_q_loss(self, states, actions, rewards, next_states, not_dones, gamma=.99):\n",
        "\n",
        "        #todo: student code here\n",
        "        with torch.no_grad():\n",
        "\n",
        "            # 1) Get next actions from target policy\n",
        "            next_actions = self.get_target_action(next_states, noisy=True)\n",
        "\n",
        "            # 2) Get target value from next states and next actions\n",
        "            next_state_action_vec = torch.cat((next_states,next_actions),dim=-1)\n",
        "            q1_next = self.q1_target_net(next_state_action_vec)\n",
        "            q2_next = self.q2_target_net(next_state_action_vec)\n",
        "\n",
        "        # 3) Get value from current states and current actions\n",
        "        state_action_vec = torch.cat((states,actions),dim=-1)\n",
        "        q1 = self.q1_net(state_action_vec)\n",
        "        q2 = self.q2_net(state_action_vec)\n",
        "\n",
        "        # 4) Get target q, starting by getting  entropy H\n",
        "        mean, log_std_dev = self.policy(next_states).chunk(2, dim=-1)\n",
        "        std_dev = log_std_dev.exp().clamp(.2, 2)\n",
        "        dist = Normal(mean, std_dev)\n",
        "        H = dist.entropy()\n",
        "        \n",
        "        q_next = torch.min(q1_next,q2_next)\n",
        "        q_target = rewards.unsqueeze(-1) + (gamma*q_next + self.alpha*H)*not_dones.unsqueeze(-1)\n",
        "\n",
        "        # 5) Get q loss\n",
        "        criterion = nn.MSELoss()\n",
        "        Q_loss = criterion(q1,q_target) + criterion(q2,q_target)\n",
        "        # end student code\n",
        "\n",
        "        return Q_loss\n",
        "\n",
        "    def get_policy_loss(self, states):\n",
        "        # todo: student code here\n",
        "        # 1) Get actions\n",
        "        actions = self.get_action(states, noisy=True)\n",
        "        state_action_vec = torch.cat((states,actions),dim=-1)\n",
        "\n",
        "        mean, log_std_dev = self.policy(states).chunk(2, dim=-1)\n",
        "        std_dev = log_std_dev.exp().clamp(.2, 2)\n",
        "        dist = Normal(mean, std_dev)\n",
        "        H = dist.entropy()\n",
        "\n",
        "        policy_loss = -torch.mean(self.q1_net(state_action_vec) + self.alpha*H)\n",
        "\n",
        "        # end student code\n",
        "        return policy_loss\n",
        "\n",
        "    def update(self, replay_buffer, i):\n",
        "\n",
        "        for _ in range(64):\n",
        "            loss = self.get_q_loss(*replay_buffer.sample())\n",
        "            self.q_optimizer.zero_grad()\n",
        "            loss.backward()\n",
        "            self.q_optimizer.step()\n",
        "        writer.add_scalar(\"loss/q loss\", loss.item(), i)\n",
        "\n",
        "        for _ in range(4):\n",
        "            states, _, _, _, _ = replay_buffer.sample()\n",
        "            loss = self.get_policy_loss(states)\n",
        "            self.policy_optimizer.zero_grad()\n",
        "            loss.backward()\n",
        "            self.policy_optimizer.step()\n",
        "        writer.add_scalar(\"loss/ - policy loss\", -loss.item(), i)\n",
        "\n",
        "        # exploration rate logging\n",
        "        with torch.no_grad():\n",
        "            _, log_std_dev = self.policy(states).chunk(2, dim=-1)\n",
        "        std_dev = log_std_dev.exp().clamp(.2, 2)\n",
        "        writer.add_scalar(\"stats/exploration rate\", std_dev.mean().item(), i)\n",
        "\n",
        "        tau = 0.1  # Soft update factor  # student code here for M2\n",
        "        for target_param, param in zip(self.q1_target_net.parameters(), self.q1_net.parameters()):\n",
        "            target_param.data.copy_(tau * param.data + (1 - tau) * target_param.data)\n",
        "\n",
        "        for target_param, param in zip(self.q2_target_net.parameters(), self.q2_net.parameters()):\n",
        "            target_param.data.copy_(tau * param.data + (1 - tau) * target_param.data)\n",
        "            \n",
        "        for target_param, param in zip(self.policy_target_net.parameters(), self.policy.parameters()):\n",
        "            target_param.data.copy_(tau * param.data + (1 - tau) * target_param.data)\n"
      ]
    },
    {
      "cell_type": "markdown",
      "metadata": {
        "id": "14T4mDGEgKak"
      },
      "source": [
        "Here's some SAC unit tests. Its not possible to pass them all with the same code. You can either make separate classes to pass each one, or simply edit the one SAC class repeatedly to get the highest milestone. You get cumulative credit for the highest milestone you acheive. Work on M1, then once you pass, work on M2, then M3."
      ]
    },
    {
      "cell_type": "code",
      "execution_count": 62,
      "metadata": {
        "cellView": "form",
        "id": "Xk9djIsdVWV2"
      },
      "outputs": [
        {
          "ename": "AssertionError",
          "evalue": "SAC M1 q loss does not match expected value.",
          "output_type": "error",
          "traceback": [
            "\u001b[0;31m---------------------------------------------------------------------------\u001b[0m",
            "\u001b[0;31mAssertionError\u001b[0m                            Traceback (most recent call last)",
            "Cell \u001b[0;32mIn[62], line 32\u001b[0m\n\u001b[1;32m     28\u001b[0m     \u001b[38;5;28;01massert\u001b[39;00m \u001b[38;5;28mabs\u001b[39m(p_loss\u001b[38;5;241m.\u001b[39mitem() \u001b[38;5;241m-\u001b[39m (\u001b[38;5;241m0.2232\u001b[39m)) \u001b[38;5;241m<\u001b[39m \u001b[38;5;241m1e-4\u001b[39m, \\\n\u001b[1;32m     29\u001b[0m     \u001b[38;5;124m\"\u001b[39m\u001b[38;5;124mSAC M1 policy loss does not match expected value.\u001b[39m\u001b[38;5;124m\"\u001b[39m\n\u001b[1;32m     30\u001b[0m     \u001b[38;5;28mprint\u001b[39m(\u001b[38;5;124m\"\u001b[39m\u001b[38;5;124mTest passed: SAC M1 policy loss appears correct!\u001b[39m\u001b[38;5;124m\"\u001b[39m)\n\u001b[0;32m---> 32\u001b[0m SAC_M1_losses()\n",
            "Cell \u001b[0;32mIn[62], line 22\u001b[0m, in \u001b[0;36mSAC_M1_losses\u001b[0;34m()\u001b[0m\n\u001b[1;32m     20\u001b[0m q_loss \u001b[38;5;241m=\u001b[39m sac\u001b[38;5;241m.\u001b[39mget_q_loss(s, a, r, s_, not_dones)\n\u001b[1;32m     21\u001b[0m \u001b[38;5;66;03m# print(q_loss)\u001b[39;00m\n\u001b[0;32m---> 22\u001b[0m \u001b[38;5;28;01massert\u001b[39;00m \u001b[38;5;28mabs\u001b[39m(q_loss\u001b[38;5;241m.\u001b[39mitem() \u001b[38;5;241m-\u001b[39m (\u001b[38;5;241m0.7857\u001b[39m)) \u001b[38;5;241m<\u001b[39m \u001b[38;5;241m1e-4\u001b[39m, \\\n\u001b[1;32m     23\u001b[0m \u001b[38;5;124m\"\u001b[39m\u001b[38;5;124mSAC M1 q loss does not match expected value.\u001b[39m\u001b[38;5;124m\"\u001b[39m\n\u001b[1;32m     24\u001b[0m \u001b[38;5;28mprint\u001b[39m(\u001b[38;5;124m\"\u001b[39m\u001b[38;5;124mTest passed: SAC M1 q loss appears correct!\u001b[39m\u001b[38;5;124m\"\u001b[39m)\n\u001b[1;32m     26\u001b[0m p_loss \u001b[38;5;241m=\u001b[39m sac\u001b[38;5;241m.\u001b[39mget_policy_loss(s)\n",
            "\u001b[0;31mAssertionError\u001b[0m: SAC M1 q loss does not match expected value."
          ]
        }
      ],
      "source": [
        "# @title SAC Milestone 1 loss unit tests\n",
        "def SAC_M1_losses():\n",
        "    torch.manual_seed(0)\n",
        "\n",
        "    # these dont match an actual rollout..\n",
        "    # print debug values during training loop rather than unit tests\n",
        "    batch_size, n_obs, n_actions = 5, 4, 1\n",
        "    s = torch.rand((batch_size, n_obs))\n",
        "    a = (torch.rand((batch_size, n_actions)) - 0.5) * 6\n",
        "    r = torch.rand((batch_size,))\n",
        "    s_ = torch.rand((batch_size, n_obs))\n",
        "    not_dones = torch.randint(0, 2, (batch_size,))\n",
        "\n",
        "    sac = SAC(4, 1)\n",
        "    torch.manual_seed(0)\n",
        "    sac.q_net = nn.Linear(5, 1) # you should not use this architecture..\n",
        "    sac.q_target_net = nn.Linear(5, 1)\n",
        "    sac.policy = nn.Linear(4, 2)\n",
        "    sac.policy_target_net = nn.Linear(4, 2)\n",
        "    q_loss = sac.get_q_loss(s, a, r, s_, not_dones)\n",
        "    # print(q_loss)\n",
        "    assert abs(q_loss.item() - (0.7857)) < 1e-4, \\\n",
        "    \"SAC M1 q loss does not match expected value.\"\n",
        "    print(\"Test passed: SAC M1 q loss appears correct!\")\n",
        "\n",
        "    p_loss = sac.get_policy_loss(s)\n",
        "    # print(p_loss)\n",
        "    assert abs(p_loss.item() - (0.2232)) < 1e-4, \\\n",
        "    \"SAC M1 policy loss does not match expected value.\"\n",
        "    print(\"Test passed: SAC M1 policy loss appears correct!\")\n",
        "\n",
        "SAC_M1_losses()"
      ]
    },
    {
      "cell_type": "code",
      "execution_count": null,
      "metadata": {
        "cellView": "form",
        "id": "Q1ZxVDKggk3f"
      },
      "outputs": [
        {
          "name": "stdout",
          "output_type": "stream",
          "text": [
            "Test passed: SAC M2 q loss appears correct!\n",
            "Test passed: SAC M2 policy loss appears correct!\n"
          ]
        }
      ],
      "source": [
        "# @title SAC Milestone 2 loss unit tests\n",
        "def SAC_M2_losses():\n",
        "    torch.manual_seed(0)\n",
        "\n",
        "    # these dont match an actual rollout..\n",
        "    # print debug values during training loop rather than unit tests\n",
        "    batch_size, n_obs, n_actions = 5, 4, 1\n",
        "    s = torch.rand((batch_size, n_obs))\n",
        "    a = (torch.rand((batch_size, n_actions)) - 0.5) * 6\n",
        "    r = torch.rand((batch_size,))\n",
        "    s_ = torch.rand((batch_size, n_obs))\n",
        "    not_dones = torch.randint(0, 2, (batch_size,))\n",
        "\n",
        "    sac = SAC(4, 1)\n",
        "    torch.manual_seed(0)\n",
        "    sac.q1_net = nn.Linear(5, 1) # you should not use this architecture..\n",
        "    sac.q1_target_net = nn.Linear(5, 1)\n",
        "    sac.q2_net = nn.Linear(5, 1)\n",
        "    sac.q2_target_net = nn.Linear(5, 1)\n",
        "    sac.policy = nn.Linear(4, 2)\n",
        "    sac.policy_target_net = nn.Linear(4, 2)\n",
        "    q_loss = sac.get_q_loss(s, a, r, s_, not_dones)\n",
        "    # print(q_loss)\n",
        "    assert abs(q_loss.item() - (1.0490)) < 1e-4, \\\n",
        "    \"SAC M2 q loss does not match expected value.\"\n",
        "    print(\"Test passed: SAC M2 q loss appears correct!\")\n",
        "\n",
        "    p_loss = sac.get_policy_loss(s)\n",
        "    # print(p_loss)\n",
        "    assert abs(p_loss.item() - (-0.1319)) < 1e-4, \\\n",
        "    \"SAC M2 policy loss does not match expected value.\"\n",
        "    print(\"Test passed: SAC M2 policy loss appears correct!\")\n",
        "\n",
        "SAC_M2_losses()"
      ]
    },
    {
      "cell_type": "code",
      "execution_count": null,
      "metadata": {
        "cellView": "form",
        "id": "XaNVfRDQiCUE"
      },
      "outputs": [
        {
          "name": "stdout",
          "output_type": "stream",
          "text": [
            "Test passed: SAC M3 q loss appears correct!\n",
            "Test passed: SAC M3 policy loss appears correct!\n"
          ]
        }
      ],
      "source": [
        "# @title SAC Milestone 3 loss unit tests\n",
        "def SAC_M3_losses():\n",
        "    torch.manual_seed(0)\n",
        "\n",
        "    # these dont match an actual rollout..\n",
        "    # print debug values during training loop rather than unit tests\n",
        "    batch_size, n_obs, n_actions = 5, 4, 1\n",
        "    s = torch.rand((batch_size, n_obs))\n",
        "    a = (torch.rand((batch_size, n_actions)) - 0.5) * 6\n",
        "    r = torch.rand((batch_size,))\n",
        "    s_ = torch.rand((batch_size, n_obs))\n",
        "    not_dones = torch.randint(0, 2, (batch_size,))\n",
        "\n",
        "    sac = SAC(4, 1)\n",
        "    torch.manual_seed(0)\n",
        "    sac.q1_net = nn.Linear(5, 1) # you should not use this architecture..\n",
        "    sac.q1_target_net = nn.Linear(5, 1)\n",
        "    sac.q2_net = nn.Linear(5, 1)\n",
        "    sac.q2_target_net = nn.Linear(5, 1)\n",
        "    sac.policy = nn.Linear(4, 2)\n",
        "    sac.policy_target_net = nn.Linear(4, 2)\n",
        "    q_loss = sac.get_q_loss(s, a, r, s_, not_dones)\n",
        "    # print(q_loss)\n",
        "    assert abs(q_loss.item() - (1.0530)) < 1e-4, \\\n",
        "    \"SAC M3 q loss does not match expected value.\"\n",
        "    print(\"Test passed: SAC M3 q loss appears correct!\")\n",
        "\n",
        "    p_loss = sac.get_policy_loss(s)\n",
        "    # print(p_loss)\n",
        "    assert abs(p_loss.item() - (-0.1341)) < 1e-4, \\\n",
        "    \"SAC M3 policy loss does not match expected value.\"\n",
        "    print(\"Test passed: SAC M3 policy loss appears correct!\")\n",
        "\n",
        "SAC_M3_losses()"
      ]
    },
    {
      "cell_type": "code",
      "execution_count": 63,
      "metadata": {
        "id": "3xAfqllvEF9v"
      },
      "outputs": [
        {
          "name": "stdout",
          "output_type": "stream",
          "text": [
            "MoviePy - Building video /home/jblevins32/DRL2/rl-video-episode-0.mp4.\n",
            "MoviePy - Writing video /home/jblevins32/DRL2/rl-video-episode-0.mp4\n",
            "\n"
          ]
        },
        {
          "name": "stderr",
          "output_type": "stream",
          "text": [
            "                                                            "
          ]
        },
        {
          "name": "stdout",
          "output_type": "stream",
          "text": [
            "MoviePy - Done !\n",
            "MoviePy - video ready /home/jblevins32/DRL2/rl-video-episode-0.mp4\n"
          ]
        },
        {
          "name": "stderr",
          "output_type": "stream",
          "text": [
            "\r"
          ]
        }
      ],
      "source": [
        "# run this for whatever highest milestone you reach\n",
        "writer = SummaryWriter(log_dir=f'runs/SAC')\n",
        "\n",
        "drl = DRL()\n",
        "sac = SAC(n_obs=4, n_actions=1)\n",
        "\n",
        "# takes ~5-10 minutes on colab gpus\n",
        "for i in range(512):\n",
        "\n",
        "    drl.rollout(sac, i)\n",
        "    sac.update(drl.replay_buffer, i)"
      ]
    },
    {
      "cell_type": "code",
      "execution_count": null,
      "metadata": {
        "id": "VQFm0-PQG6U4"
      },
      "outputs": [
        {
          "data": {
            "text/html": [
              "<video controls  >\n",
              " <source src=\"data:video/mp4;base64,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\" type=\"video/mp4\">\n",
              " Your browser does not support the video tag.\n",
              " </video>"
            ],
            "text/plain": [
              "<IPython.core.display.Video object>"
            ]
          },
          "metadata": {},
          "output_type": "display_data"
        }
      ],
      "source": [
        "visualize(sac)"
      ]
    }
  ],
  "metadata": {
    "accelerator": "GPU",
    "colab": {
      "collapsed_sections": [
        "Cqv2aln3DDCz",
        "hdzpOoeBR9Ql",
        "RWpQBY3YKGAX",
        "2ZXqBcnlJbar",
        "kEHCeEYVJsB8",
        "PWsqAz6VRypQ",
        "qItDHaIL_z1Y",
        "pQ1i0MUp_3rT",
        "PuUizaqF_88H"
      ],
      "gpuType": "T4",
      "machine_shape": "hm",
      "provenance": []
    },
    "kernelspec": {
      "display_name": "base",
      "language": "python",
      "name": "python3"
    },
    "language_info": {
      "codemirror_mode": {
        "name": "ipython",
        "version": 3
      },
      "file_extension": ".py",
      "mimetype": "text/x-python",
      "name": "python",
      "nbconvert_exporter": "python",
      "pygments_lexer": "ipython3",
      "version": "3.11.11"
    }
  },
  "nbformat": 4,
  "nbformat_minor": 0
}
